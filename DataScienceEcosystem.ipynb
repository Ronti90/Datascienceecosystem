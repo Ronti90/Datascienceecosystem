{
 "cells": [
  {
   "cell_type": "markdown",
   "id": "d721dacb",
   "metadata": {},
   "source": [
    "# Data Science Tools and Ecosystem"
   ]
  },
  {
   "cell_type": "markdown",
   "id": "4e003c04",
   "metadata": {},
   "source": [
    "In this notebook, Data Science Tools and Ecosystems are summarized. "
   ]
  },
  {
   "cell_type": "markdown",
   "id": "99514d11",
   "metadata": {},
   "source": [
    "Some of the popular languages that Data Scientists use are:\n",
    "1. Python\n",
    "2. SQL\n",
    "3. R\n",
    "4. Julia\n",
    "5. Scala\n",
    "6. Visual Basic"
   ]
  },
  {
   "cell_type": "markdown",
   "id": "83d7c675",
   "metadata": {},
   "source": [
    "Some of the commonly used libraries by Data Scientists inculde:\n",
    "1. Pandas\n",
    "2. Numpy\n",
    "3. Matpolitlib\n",
    "4. Scikitlearn"
   ]
  },
  {
   "cell_type": "markdown",
   "id": "a963e505",
   "metadata": {},
   "source": [
    "| Data Science Tools|\n",
    "|-------------------|\n",
    "|Jupyter Lab        |\n",
    "|Spyder             |\n",
    "|Data Spell         |\n",
    "|Google Colab       |"
   ]
  },
  {
   "cell_type": "markdown",
   "id": "aa920b51",
   "metadata": {},
   "source": [
    "### Below are a few examples of evaluating arithmetic expressions in Python."
   ]
  },
  {
   "cell_type": "code",
   "execution_count": 2,
   "id": "b5a6b984",
   "metadata": {},
   "outputs": [
    {
     "name": "stdout",
     "output_type": "stream",
     "text": [
      "17\n"
     ]
    }
   ],
   "source": [
    "import numpy as np\n",
    "\n",
    "np=(3*4)+5\n",
    "\n",
    "print(np)"
   ]
  },
  {
   "cell_type": "code",
   "execution_count": null,
   "id": "f090b729",
   "metadata": {},
   "outputs": [],
   "source": [
    "time=float(input('Enter time: '))\n",
    "unit=input('Time in hours or minutes: ')\n",
    "\n",
    "if unit.upper() == 'hours':\n",
    "    convert = time * 60\n",
    "    print('Time in hours is ' + str(convert))\n",
    "\n",
    "else:\n",
    "    convert = time / 60\n",
    "    print('Time in minutes is ' + str(convert))"
   ]
  },
  {
   "cell_type": "markdown",
   "id": "00d68e34",
   "metadata": {},
   "source": [
    "## Objectives"
   ]
  },
  {
   "cell_type": "markdown",
   "id": "85fbd098",
   "metadata": {},
   "source": [
    "- Python Language\n",
    "- Pandas tool\n",
    "- Numpy tool"
   ]
  },
  {
   "cell_type": "markdown",
   "id": "cdd51da6",
   "metadata": {},
   "source": [
    "## Author\n",
    "\n",
    "Bobronti Ogoti"
   ]
  },
  {
   "cell_type": "code",
   "execution_count": null,
   "id": "55ad2c2c",
   "metadata": {},
   "outputs": [],
   "source": []
  }
 ],
 "metadata": {
  "kernelspec": {
   "display_name": "Python 3 (ipykernel)",
   "language": "python",
   "name": "python3"
  },
  "language_info": {
   "codemirror_mode": {
    "name": "ipython",
    "version": 3
   },
   "file_extension": ".py",
   "mimetype": "text/x-python",
   "name": "python",
   "nbconvert_exporter": "python",
   "pygments_lexer": "ipython3",
   "version": "3.11.4"
  }
 },
 "nbformat": 4,
 "nbformat_minor": 5
}
